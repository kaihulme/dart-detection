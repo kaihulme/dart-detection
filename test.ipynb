{
 "metadata": {
  "language_info": {
   "codemirror_mode": {
    "name": "ipython",
    "version": 3
   },
   "file_extension": ".py",
   "mimetype": "text/x-python",
   "name": "python",
   "nbconvert_exporter": "python",
   "pygments_lexer": "ipython3",
   "version": "3.8.5-final"
  },
  "orig_nbformat": 2,
  "kernelspec": {
   "name": "python3",
   "display_name": "Python 3"
  }
 },
 "nbformat": 4,
 "nbformat_minor": 2,
 "cells": [
  {
   "cell_type": "code",
   "execution_count": 1,
   "metadata": {},
   "outputs": [],
   "source": [
    "import math\n",
    "import numpy as np"
   ]
  },
  {
   "cell_type": "code",
   "execution_count": 4,
   "metadata": {},
   "outputs": [
    {
     "output_type": "stream",
     "name": "stdout",
     "text": [
      "(2, 3, 3)\n"
     ]
    }
   ],
   "source": [
    "res = np.array([[[ 1, 2, 3],\n",
    "                 [ 4, 5, 6],\n",
    "                 [ 7, 8, 9]],\n",
    "                [[11,12,13],\n",
    "                 [14,15,16],\n",
    "                 [17,18,19]]])\n",
    "\n",
    "print(res.shape)"
   ]
  },
  {
   "cell_type": "code",
   "execution_count": 15,
   "metadata": {},
   "outputs": [
    {
     "output_type": "stream",
     "name": "stdout",
     "text": [
      "(0, 2) : \n [ 3 13]\n(1, 2) : \n [ 6 16]\n"
     ]
    }
   ],
   "source": [
    "centres = np.array([[0, 2], [1, 2]])\n",
    "\n",
    "for (y, x) in centres:\n",
    "    print(f\"({y}, {x}) : \\n {res[:][:,y][:,x]}\")"
   ]
  }
 ]
}